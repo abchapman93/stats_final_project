{
 "cells": [
  {
   "cell_type": "code",
   "execution_count": 27,
   "metadata": {},
   "outputs": [],
   "source": [
    "import os\n",
    "import pandas as pd\n",
    "import sqlite3 as sqlite\n",
    "import numpy as np\n",
    "import random\n",
    "\n",
    "\n",
    "from sklearn.feature_extraction.text import CountVectorizer, TfidfVectorizer\n",
    "from sklearn.ensemble import RandomForestClassifier\n",
    "from sklearn.model_selection import cross_val_score\n",
    "from sklearn.metrics import f1_score,accuracy_score, precision_score, recall_score, classification_report\n",
    "from sklearn.naive_bayes import MultinomialNB\n",
    "from sklearn.linear_model import LogisticRegression\n",
    "from sklearn.svm import LinearSVC\n",
    "from sklearn.utils import shuffle\n",
    "from sklearn.model_selection import cross_val_predict, cross_val_score\n",
    "import pickle"
   ]
  },
  {
   "cell_type": "code",
   "execution_count": 2,
   "metadata": {},
   "outputs": [
    {
     "data": {
      "text/plain": [
       "True"
      ]
     },
     "execution_count": 2,
     "metadata": {},
     "output_type": "execute_result"
    }
   ],
   "source": [
    "DATADIR = '../stats_data'\n",
    "DB = os.path.join(DATADIR, 'Reference Standard', 'radiology_reports.sqlite')\n",
    "os.path.exists(DB)"
   ]
  },
  {
   "cell_type": "markdown",
   "metadata": {
    "collapsed": true
   },
   "source": [
    "# Introduction\n",
    "This notebook is an expansion on `Report Classification.ipynb`. That notebook aimed to test a number of ML classifiers with different hyperparemeters on a task of document classification. That found that the highest-performing algorithm for our task was a `Random Forest Classifier` with the sqrt of features, 200 estimators, and no maximum depth.\n",
    "\n",
    "**TODO**: Will compare more, update this.\n",
    "\n",
    "This notebook will aim to compare this classifier with a lower performing algorithm, the `Multinomial Naive Bayes`. We will follow methods laid out here:\n",
    "https://www.cs.waikato.ac.nz/ml/publications/2003/bouckaert-calibrated-tests.pdf"
   ]
  },
  {
   "cell_type": "markdown",
   "metadata": {},
   "source": [
    "# Data Preparation\n",
    "Instead of using test/train splits, this notebook will use cross-validation in order to maximize the amount of data for each fold."
   ]
  },
  {
   "cell_type": "code",
   "execution_count": 3,
   "metadata": {
    "collapsed": true
   },
   "outputs": [],
   "source": [
    "conn = sqlite.connect(DB)\n",
    "\n",
    "# Training data\n",
    "train_df = pd.read_sql(\"SELECT * FROM training_notes;\", conn)\n",
    "#Testing data\n",
    "test_df = pd.read_sql(\"SELECT * FROM testing_notes;\", conn)\n",
    "conn.close()"
   ]
  },
  {
   "cell_type": "code",
   "execution_count": 5,
   "metadata": {},
   "outputs": [
    {
     "data": {
      "text/html": [
       "<div>\n",
       "<style scoped>\n",
       "    .dataframe tbody tr th:only-of-type {\n",
       "        vertical-align: middle;\n",
       "    }\n",
       "\n",
       "    .dataframe tbody tr th {\n",
       "        vertical-align: top;\n",
       "    }\n",
       "\n",
       "    .dataframe thead th {\n",
       "        text-align: right;\n",
       "    }\n",
       "</style>\n",
       "<table border=\"1\" class=\"dataframe\">\n",
       "  <thead>\n",
       "    <tr style=\"text-align: right;\">\n",
       "      <th></th>\n",
       "      <th>rowid</th>\n",
       "      <th>name</th>\n",
       "      <th>text</th>\n",
       "      <th>referenceXML</th>\n",
       "      <th>doc_class</th>\n",
       "      <th>subject</th>\n",
       "      <th>HADM_ID</th>\n",
       "      <th>CHARTDATE</th>\n",
       "    </tr>\n",
       "  </thead>\n",
       "  <tbody>\n",
       "    <tr>\n",
       "      <th>0</th>\n",
       "      <td>1</td>\n",
       "      <td>No_10792_131562_05-29-20</td>\n",
       "      <td>\\n CT ABDOMEN W/CONTRAST; CT PELVIS W/CONTRAS...</td>\n",
       "      <td>&lt;?xml version=\"1.0\" encoding=\"UTF-8\"?&gt;\\n&lt;annot...</td>\n",
       "      <td>0</td>\n",
       "      <td>32</td>\n",
       "      <td>131562</td>\n",
       "      <td>05-29-20</td>\n",
       "    </tr>\n",
       "    <tr>\n",
       "      <th>1</th>\n",
       "      <td>2</td>\n",
       "      <td>No_11050_126785_11-03-33</td>\n",
       "      <td>\\n CT CHEST W/CONTRAST; CT ABDOMEN W/CONTRAST...</td>\n",
       "      <td>&lt;?xml version=\"1.0\" encoding=\"UTF-8\"?&gt;\\n&lt;annot...</td>\n",
       "      <td>0</td>\n",
       "      <td>34</td>\n",
       "      <td>126785</td>\n",
       "      <td>11-03-33</td>\n",
       "    </tr>\n",
       "    <tr>\n",
       "      <th>2</th>\n",
       "      <td>3</td>\n",
       "      <td>No_11879_166554_06-22-37</td>\n",
       "      <td>\\n CTA CHEST W&amp;W/O C &amp;RECONS; CT 100CC NON IO...</td>\n",
       "      <td>&lt;?xml version=\"1.0\" encoding=\"UTF-8\"?&gt;\\n&lt;annot...</td>\n",
       "      <td>0</td>\n",
       "      <td>35</td>\n",
       "      <td>166554</td>\n",
       "      <td>06-22-37</td>\n",
       "    </tr>\n",
       "    <tr>\n",
       "      <th>3</th>\n",
       "      <td>4</td>\n",
       "      <td>No_11879_166554_06-23-37</td>\n",
       "      <td>\\n CT ABDOMEN W/O CONTRAST; CT PELVIS W/O CON...</td>\n",
       "      <td>&lt;?xml version=\"1.0\" encoding=\"UTF-8\"?&gt;\\n&lt;annot...</td>\n",
       "      <td>0</td>\n",
       "      <td>35</td>\n",
       "      <td>166554</td>\n",
       "      <td>06-23-37</td>\n",
       "    </tr>\n",
       "    <tr>\n",
       "      <th>4</th>\n",
       "      <td>5</td>\n",
       "      <td>No_11879_166554_07-02-37</td>\n",
       "      <td>\\n CT CHEST W/O CONTRAST \\n ~ Reason: r/o ste...</td>\n",
       "      <td>&lt;?xml version=\"1.0\" encoding=\"UTF-8\"?&gt;\\n&lt;annot...</td>\n",
       "      <td>0</td>\n",
       "      <td>35</td>\n",
       "      <td>166554</td>\n",
       "      <td>07-02-37</td>\n",
       "    </tr>\n",
       "  </tbody>\n",
       "</table>\n",
       "</div>"
      ],
      "text/plain": [
       "   rowid                      name  \\\n",
       "0      1  No_10792_131562_05-29-20   \n",
       "1      2  No_11050_126785_11-03-33   \n",
       "2      3  No_11879_166554_06-22-37   \n",
       "3      4  No_11879_166554_06-23-37   \n",
       "4      5  No_11879_166554_07-02-37   \n",
       "\n",
       "                                                text  \\\n",
       "0   \\n CT ABDOMEN W/CONTRAST; CT PELVIS W/CONTRAS...   \n",
       "1   \\n CT CHEST W/CONTRAST; CT ABDOMEN W/CONTRAST...   \n",
       "2   \\n CTA CHEST W&W/O C &RECONS; CT 100CC NON IO...   \n",
       "3   \\n CT ABDOMEN W/O CONTRAST; CT PELVIS W/O CON...   \n",
       "4   \\n CT CHEST W/O CONTRAST \\n ~ Reason: r/o ste...   \n",
       "\n",
       "                                        referenceXML  doc_class  subject  \\\n",
       "0  <?xml version=\"1.0\" encoding=\"UTF-8\"?>\\n<annot...          0       32   \n",
       "1  <?xml version=\"1.0\" encoding=\"UTF-8\"?>\\n<annot...          0       34   \n",
       "2  <?xml version=\"1.0\" encoding=\"UTF-8\"?>\\n<annot...          0       35   \n",
       "3  <?xml version=\"1.0\" encoding=\"UTF-8\"?>\\n<annot...          0       35   \n",
       "4  <?xml version=\"1.0\" encoding=\"UTF-8\"?>\\n<annot...          0       35   \n",
       "\n",
       "   HADM_ID CHARTDATE  \n",
       "0   131562  05-29-20  \n",
       "1   126785  11-03-33  \n",
       "2   166554  06-22-37  \n",
       "3   166554  06-23-37  \n",
       "4   166554  07-02-37  "
      ]
     },
     "execution_count": 5,
     "metadata": {},
     "output_type": "execute_result"
    }
   ],
   "source": [
    "df = train_df.append(test_df)\n",
    "df.head()"
   ]
  },
  {
   "cell_type": "code",
   "execution_count": 6,
   "metadata": {
    "collapsed": true
   },
   "outputs": [],
   "source": [
    "vectorizer = TfidfVectorizer(min_df=0.1, lowercase=True, stop_words='english',\n",
    "                                     ngram_range=(1, 3))\n",
    "X = list(df.text)\n",
    "y = list(df.doc_class)\n",
    "\n",
    "# Fit the vectorizer and transform the training notes into a vector\n",
    "X = vectorizer.fit_transform(X)"
   ]
  },
  {
   "cell_type": "code",
   "execution_count": 7,
   "metadata": {
    "collapsed": true
   },
   "outputs": [],
   "source": [
    "X, y = shuffle(X, y)"
   ]
  },
  {
   "cell_type": "markdown",
   "metadata": {},
   "source": [
    "# Train Models\n",
    "We will now instantiate our classifiers that we want to compare.\n",
    "\n",
    "- Optimal RandomForestClassifier: highest-performing model from our last experiment\n",
    "- Dummy Classifier: Randomly predicts based on class distribution\n",
    "- Naive bayes\n",
    "- Low RandomForestClassifier: lowest-performing RFC\n",
    "- Logistic Regression - highest-performing Logistic Regression classifier\n",
    "- SVM\n",
    "- Lowest - the lowest non-zero performing ML classifier"
   ]
  },
  {
   "cell_type": "code",
   "execution_count": null,
   "metadata": {
    "collapsed": true
   },
   "outputs": [],
   "source": []
  },
  {
   "cell_type": "code",
   "execution_count": 69,
   "metadata": {},
   "outputs": [],
   "source": [
    "forest = RandomForestClassifier(n_estimators=200, max_depth=None, max_features='sqrt', n_jobs=-1)\n",
    "low_forest = RandomForestClassifier(n_estimators=1000, max_features='sqrt', max_depth=50)\n",
    "naive = MultinomialNB()\n",
    "dummy = DummyClassifier()\n",
    "lowest = LogisticRegression(penalty='l1', C=0.1)\n",
    "\n",
    "clfs = [(\"Dummy Classifier\", dummy), (\"Lowest Forest\", low_forest), (\"Naive Bayes\", naive), (\"Worst Model\", lowest)]"
   ]
  },
  {
   "cell_type": "markdown",
   "metadata": {},
   "source": [
    "# Experiment\n",
    "We will now follow a number of different methods for comparing the performance of these algorithms."
   ]
  },
  {
   "cell_type": "markdown",
   "metadata": {},
   "source": [
    "### k-fold cross validation\n",
    "(see paper)\n",
    "\"\"\"\n",
    "**Summary**: In k-fold cross validation, the data is split in k equal parts. The algorithm is then trained on all data but one fold. That remaining fold is used to test. This gives us *k* accuracy estimates for algorithms A and B.\n",
    "\n",
    "xi is the difference between the two accuracies. The mean x is normally distributed if the algortihms are the same and the folds are sufficiently large.\n",
    "\n",
    "We have a statistic approximating the t distribution with df = k - 1 degrees of freedom.\n",
    "\"\"\"\n",
    "\n",
    "In this section, we will do 10-fold cross-validation, which returns an array of 10 F1 scores for each classifer. For each of the non-optimal classifiers (not the Random Forest that we determined was the highest-performing model in the last notebook), we will compare the two arrays of F1 scores and see if they are significantly different."
   ]
  },
  {
   "cell_type": "code",
   "execution_count": 76,
   "metadata": {
    "collapsed": true
   },
   "outputs": [],
   "source": [
    "# Now do a t-test\n",
    "from scipy.stats import ttest_ind as ttest\n",
    "\n",
    "def compare_model_results(clf1, clf2, X, y, k=10):\n",
    "    \"\"\"\n",
    "    Compares the cross-validated accuracy scores of two different classifiers\n",
    "    using a student's t-test.\n",
    "    Returns the results of the t-test\n",
    "    clf1: the first classifier\n",
    "    clf2: the second classifier\n",
    "    \"\"\"\n",
    "    results1 = cross_val_score(clf1, X, y, cv=k, scoring='f1')\n",
    "    results2 = cross_val_score(clf2, X, y, cv=k, scoring='f1')\n",
    "    \n",
    "    return ttest(results1, results2)\n",
    "    "
   ]
  },
  {
   "cell_type": "code",
   "execution_count": 77,
   "metadata": {
    "collapsed": true
   },
   "outputs": [],
   "source": [
    "results = []"
   ]
  },
  {
   "cell_type": "code",
   "execution_count": 78,
   "metadata": {},
   "outputs": [
    {
     "name": "stdout",
     "output_type": "stream",
     "text": [
      "Dummy Classifier\n",
      "Lowest Forest\n",
      "Naive Bayes\n",
      "Worst Model\n"
     ]
    }
   ],
   "source": [
    "for (name, clf) in clfs:\n",
    "    print(name)\n",
    "    t = compare_model_results(forest, clf, X, y, k=10)\n",
    "    pvalue = t.pvalue\n",
    "    results.append((name, pvalue))\n",
    "    \n"
   ]
  },
  {
   "cell_type": "code",
   "execution_count": 85,
   "metadata": {},
   "outputs": [
    {
     "data": {
      "image/png": "[encoded data removed]",
      "text/plain": [
       "<matplotlib.figure.Figure at 0x119f1be48>"
      ]
     },
     "metadata": {},
     "output_type": "display_data"
    }
   ],
   "source": [
    "import matplotlib.pyplot as plt\n",
    "%matplotlib inline\n",
    "\n",
    "fig, ax = plt.subplots()\n",
    "sorted_results = sorted(results, key=lambda x:x[1], reverse=False)\n",
    "names, pvalues = zip(*sorted_results)\n",
    "ax.plot(range(len(pvalues)), pvalues, marker='.')\n",
    "ax.plot(range(len(pvalues)), [0.05 for i in range(len(pvalues))])\n",
    "ax.set_title(\"p-values of Comparisons between \\nOptimized Random Forest and other models\")\n",
    "_ = plt.xticks(range(len(pvalues)), names)"
   ]
  },
  {
   "cell_type": "code",
   "execution_count": null,
   "metadata": {
    "collapsed": true
   },
   "outputs": [],
   "source": []
  }
 ],
 "metadata": {
  "kernelspec": {
   "display_name": "Python 3",
   "language": "python",
   "name": "python3"
  },
  "language_info": {
   "codemirror_mode": {
    "name": "ipython",
    "version": 3
   },
   "file_extension": ".py",
   "mimetype": "text/x-python",
   "name": "python",
   "nbconvert_exporter": "python",
   "pygments_lexer": "ipython3",
   "version": "3.6.4"
  }
 },
 "nbformat": 4,
 "nbformat_minor": 2
}
