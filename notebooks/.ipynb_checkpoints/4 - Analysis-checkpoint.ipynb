{
 "cells": [
  {
   "cell_type": "code",
   "execution_count": 9,
   "metadata": {
    "collapsed": true
   },
   "outputs": [],
   "source": [
    "import os\n",
    "import pandas as pd\n",
    "import sqlite3 as sqlite\n",
    "import numpy as np\n",
    "import random\n",
    "\n",
    "\n",
    "from sklearn.feature_extraction.text import CountVectorizer, TfidfVectorizer\n",
    "from sklearn.dummy import DummyClassifier\n",
    "from scipy.stats import ttest_ind as ttest\n",
    "from sklearn.ensemble import RandomForestClassifier\n",
    "from sklearn.model_selection import cross_val_score\n",
    "from sklearn.metrics import f1_score,accuracy_score, precision_score, recall_score, classification_report\n",
    "from sklearn.naive_bayes import MultinomialNB\n",
    "from sklearn.linear_model import LogisticRegression\n",
    "from sklearn.svm import LinearSVC\n",
    "from sklearn.utils import shuffle\n",
    "from sklearn.model_selection import cross_val_predict, cross_val_score\n",
    "import pickle"
   ]
  },
  {
   "cell_type": "code",
   "execution_count": 10,
   "metadata": {},
   "outputs": [
    {
     "data": {
      "text/plain": [
       "True"
      ]
     },
     "execution_count": 10,
     "metadata": {},
     "output_type": "execute_result"
    }
   ],
   "source": [
    "DATADIR = '../stats_data'\n",
    "DB = os.path.join(DATADIR, 'Reference Standard', 'radiology_reports.sqlite')\n",
    "os.path.exists(DB)"
   ]
  },
  {
   "cell_type": "markdown",
   "metadata": {
    "collapsed": true
   },
   "source": [
    "# Introduction\n",
    "This notebook is an expansion on `Report Classification.ipynb`. That notebook aimed to test a number of ML classifiers with different hyperparemeters on a task of document classification. That found that the highest-performing algorithm for our task was a `Logistic Regression` classifier.\n",
    "\n",
    "\n",
    "This notebook will aim to compare this classifier with a number of lower performing algorithms and random guessing. We will follow methods laid out here:\n",
    "https://www.cs.waikato.ac.nz/ml/publications/2003/bouckaert-calibrated-tests.pdf"
   ]
  },
  {
   "cell_type": "markdown",
   "metadata": {},
   "source": [
    "## 1. Statistical Significance Test for ML predictions\n",
    "Now that we have identified a Machine Learning classifier that we believe can effectively identify reports that contain fluid collections, the first thing to do is test that these predictions are statistically significant. To do this, we'll compare the ML predictions of the two different populations using a Student's T-Test. If the resulting p-value is very low, then that would mean that the ML predictions are very unlikely to happen by chance and are statistically significant. Otherwise, then there is a high likelihood that the predictions could be random and are thus not statistically significant."
   ]
  },
  {
   "cell_type": "code",
   "execution_count": 11,
   "metadata": {},
   "outputs": [
    {
     "data": {
      "text/html": [
       "<div>\n",
       "<style scoped>\n",
       "    .dataframe tbody tr th:only-of-type {\n",
       "        vertical-align: middle;\n",
       "    }\n",
       "\n",
       "    .dataframe tbody tr th {\n",
       "        vertical-align: top;\n",
       "    }\n",
       "\n",
       "    .dataframe thead th {\n",
       "        text-align: right;\n",
       "    }\n",
       "</style>\n",
       "<table border=\"1\" class=\"dataframe\">\n",
       "  <thead>\n",
       "    <tr style=\"text-align: right;\">\n",
       "      <th></th>\n",
       "      <th>Unnamed: 0</th>\n",
       "      <th>name</th>\n",
       "      <th>doc_class</th>\n",
       "      <th>pred</th>\n",
       "    </tr>\n",
       "  </thead>\n",
       "  <tbody>\n",
       "    <tr>\n",
       "      <th>0</th>\n",
       "      <td>0</td>\n",
       "      <td>No_1007_141227_06-18-95</td>\n",
       "      <td>0</td>\n",
       "      <td>0</td>\n",
       "    </tr>\n",
       "    <tr>\n",
       "      <th>1</th>\n",
       "      <td>1</td>\n",
       "      <td>No_12344_140694_08-13-21</td>\n",
       "      <td>0</td>\n",
       "      <td>0</td>\n",
       "    </tr>\n",
       "    <tr>\n",
       "      <th>2</th>\n",
       "      <td>2</td>\n",
       "      <td>No_14176_126791_10-19-39</td>\n",
       "      <td>0</td>\n",
       "      <td>0</td>\n",
       "    </tr>\n",
       "    <tr>\n",
       "      <th>3</th>\n",
       "      <td>3</td>\n",
       "      <td>No_15847_121459_06-07-77</td>\n",
       "      <td>0</td>\n",
       "      <td>0</td>\n",
       "    </tr>\n",
       "    <tr>\n",
       "      <th>4</th>\n",
       "      <td>4</td>\n",
       "      <td>No_15847_121459_06-16-77</td>\n",
       "      <td>0</td>\n",
       "      <td>0</td>\n",
       "    </tr>\n",
       "  </tbody>\n",
       "</table>\n",
       "</div>"
      ],
      "text/plain": [
       "   Unnamed: 0                      name  doc_class  pred\n",
       "0           0   No_1007_141227_06-18-95          0     0\n",
       "1           1  No_12344_140694_08-13-21          0     0\n",
       "2           2  No_14176_126791_10-19-39          0     0\n",
       "3           3  No_15847_121459_06-07-77          0     0\n",
       "4           4  No_15847_121459_06-16-77          0     0"
      ]
     },
     "execution_count": 11,
     "metadata": {},
     "output_type": "execute_result"
    }
   ],
   "source": [
    "preds = pd.read_csv('../stats_data/test_preds.txt', sep='\\t')\n",
    "preds.head()"
   ]
  },
  {
   "cell_type": "code",
   "execution_count": 12,
   "metadata": {},
   "outputs": [
    {
     "name": "stdout",
     "output_type": "stream",
     "text": [
      "             precision    recall  f1-score   support\n",
      "\n",
      "          0       0.88      0.96      0.92        69\n",
      "          1       0.88      0.71      0.79        31\n",
      "\n",
      "avg / total       0.88      0.88      0.88       100\n",
      "\n"
     ]
    }
   ],
   "source": [
    "# Let's view its overall performance\n",
    "print(classification_report(preds.doc_class, preds.pred))"
   ]
  },
  {
   "cell_type": "code",
   "execution_count": 13,
   "metadata": {
    "collapsed": true
   },
   "outputs": [],
   "source": [
    "pos_docs = preds[preds[\"doc_class\"] == 1]\n",
    "neg_docs = preds[preds[\"doc_class\"] == 0]"
   ]
  },
  {
   "cell_type": "code",
   "execution_count": 14,
   "metadata": {},
   "outputs": [
    {
     "data": {
      "text/plain": [
       "Ttest_indResult(statistic=10.025252207210642, pvalue=1.0667818681322787e-16)"
      ]
     },
     "execution_count": 14,
     "metadata": {},
     "output_type": "execute_result"
    }
   ],
   "source": [
    "ttest(pos_docs.pred, neg_docs.pred)"
   ]
  },
  {
   "cell_type": "markdown",
   "metadata": {},
   "source": [
    "### 1 - Results\n",
    "Comparing our predictions on the two populations yields a p-value of < 0.001. This shows that our algorithm yields results that are statistically significant."
   ]
  },
  {
   "cell_type": "markdown",
   "metadata": {},
   "source": [
    "# 2 - Comparing Significance of Difference Between Different Algorithms\n",
    "We now know that ML can offer an effective solution to identifying reports with fluid collections. In the last notebook we trained a number of different algorithms and picked the algorithm with the highest F1. In this notebook we'll compare the algorithm we picked with a number of other classifiers and random guessing."
   ]
  },
  {
   "cell_type": "markdown",
   "metadata": {},
   "source": [
    "## 2-a - Data Preparation\n",
    "Instead of using test/train splits, this notebook will use cross-validation in order to maximize the amount of data for each fold."
   ]
  },
  {
   "cell_type": "code",
   "execution_count": 15,
   "metadata": {
    "collapsed": true
   },
   "outputs": [],
   "source": [
    "conn = sqlite.connect(DB)\n",
    "\n",
    "# Training data\n",
    "train_df = pd.read_sql(\"SELECT * FROM training_notes;\", conn)\n",
    "#Testing data\n",
    "test_df = pd.read_sql(\"SELECT * FROM testing_notes;\", conn)\n",
    "conn.close()"
   ]
  },
  {
   "cell_type": "code",
   "execution_count": 16,
   "metadata": {},
   "outputs": [
    {
     "data": {
      "text/html": [
       "<div>\n",
       "<style scoped>\n",
       "    .dataframe tbody tr th:only-of-type {\n",
       "        vertical-align: middle;\n",
       "    }\n",
       "\n",
       "    .dataframe tbody tr th {\n",
       "        vertical-align: top;\n",
       "    }\n",
       "\n",
       "    .dataframe thead th {\n",
       "        text-align: right;\n",
       "    }\n",
       "</style>\n",
       "<table border=\"1\" class=\"dataframe\">\n",
       "  <thead>\n",
       "    <tr style=\"text-align: right;\">\n",
       "      <th></th>\n",
       "      <th>rowid</th>\n",
       "      <th>name</th>\n",
       "      <th>text</th>\n",
       "      <th>referenceXML</th>\n",
       "      <th>doc_class</th>\n",
       "      <th>subject</th>\n",
       "      <th>HADM_ID</th>\n",
       "      <th>CHARTDATE</th>\n",
       "    </tr>\n",
       "  </thead>\n",
       "  <tbody>\n",
       "    <tr>\n",
       "      <th>0</th>\n",
       "      <td>1</td>\n",
       "      <td>No_10792_131562_05-29-20</td>\n",
       "      <td>\\n CT ABDOMEN W/CONTRAST; CT PELVIS W/CONTRAS...</td>\n",
       "      <td>&lt;?xml version=\"1.0\" encoding=\"UTF-8\"?&gt;\\n&lt;annot...</td>\n",
       "      <td>0</td>\n",
       "      <td>32</td>\n",
       "      <td>131562</td>\n",
       "      <td>05-29-20</td>\n",
       "    </tr>\n",
       "    <tr>\n",
       "      <th>1</th>\n",
       "      <td>2</td>\n",
       "      <td>No_11050_126785_11-03-33</td>\n",
       "      <td>\\n CT CHEST W/CONTRAST; CT ABDOMEN W/CONTRAST...</td>\n",
       "      <td>&lt;?xml version=\"1.0\" encoding=\"UTF-8\"?&gt;\\n&lt;annot...</td>\n",
       "      <td>0</td>\n",
       "      <td>34</td>\n",
       "      <td>126785</td>\n",
       "      <td>11-03-33</td>\n",
       "    </tr>\n",
       "    <tr>\n",
       "      <th>2</th>\n",
       "      <td>3</td>\n",
       "      <td>No_11879_166554_06-22-37</td>\n",
       "      <td>\\n CTA CHEST W&amp;W/O C &amp;RECONS; CT 100CC NON IO...</td>\n",
       "      <td>&lt;?xml version=\"1.0\" encoding=\"UTF-8\"?&gt;\\n&lt;annot...</td>\n",
       "      <td>0</td>\n",
       "      <td>35</td>\n",
       "      <td>166554</td>\n",
       "      <td>06-22-37</td>\n",
       "    </tr>\n",
       "    <tr>\n",
       "      <th>3</th>\n",
       "      <td>4</td>\n",
       "      <td>No_11879_166554_06-23-37</td>\n",
       "      <td>\\n CT ABDOMEN W/O CONTRAST; CT PELVIS W/O CON...</td>\n",
       "      <td>&lt;?xml version=\"1.0\" encoding=\"UTF-8\"?&gt;\\n&lt;annot...</td>\n",
       "      <td>0</td>\n",
       "      <td>35</td>\n",
       "      <td>166554</td>\n",
       "      <td>06-23-37</td>\n",
       "    </tr>\n",
       "    <tr>\n",
       "      <th>4</th>\n",
       "      <td>5</td>\n",
       "      <td>No_11879_166554_07-02-37</td>\n",
       "      <td>\\n CT CHEST W/O CONTRAST \\n ~ Reason: r/o ste...</td>\n",
       "      <td>&lt;?xml version=\"1.0\" encoding=\"UTF-8\"?&gt;\\n&lt;annot...</td>\n",
       "      <td>0</td>\n",
       "      <td>35</td>\n",
       "      <td>166554</td>\n",
       "      <td>07-02-37</td>\n",
       "    </tr>\n",
       "  </tbody>\n",
       "</table>\n",
       "</div>"
      ],
      "text/plain": [
       "   rowid                      name  \\\n",
       "0      1  No_10792_131562_05-29-20   \n",
       "1      2  No_11050_126785_11-03-33   \n",
       "2      3  No_11879_166554_06-22-37   \n",
       "3      4  No_11879_166554_06-23-37   \n",
       "4      5  No_11879_166554_07-02-37   \n",
       "\n",
       "                                                text  \\\n",
       "0   \\n CT ABDOMEN W/CONTRAST; CT PELVIS W/CONTRAS...   \n",
       "1   \\n CT CHEST W/CONTRAST; CT ABDOMEN W/CONTRAST...   \n",
       "2   \\n CTA CHEST W&W/O C &RECONS; CT 100CC NON IO...   \n",
       "3   \\n CT ABDOMEN W/O CONTRAST; CT PELVIS W/O CON...   \n",
       "4   \\n CT CHEST W/O CONTRAST \\n ~ Reason: r/o ste...   \n",
       "\n",
       "                                        referenceXML  doc_class  subject  \\\n",
       "0  <?xml version=\"1.0\" encoding=\"UTF-8\"?>\\n<annot...          0       32   \n",
       "1  <?xml version=\"1.0\" encoding=\"UTF-8\"?>\\n<annot...          0       34   \n",
       "2  <?xml version=\"1.0\" encoding=\"UTF-8\"?>\\n<annot...          0       35   \n",
       "3  <?xml version=\"1.0\" encoding=\"UTF-8\"?>\\n<annot...          0       35   \n",
       "4  <?xml version=\"1.0\" encoding=\"UTF-8\"?>\\n<annot...          0       35   \n",
       "\n",
       "   HADM_ID CHARTDATE  \n",
       "0   131562  05-29-20  \n",
       "1   126785  11-03-33  \n",
       "2   166554  06-22-37  \n",
       "3   166554  06-23-37  \n",
       "4   166554  07-02-37  "
      ]
     },
     "execution_count": 16,
     "metadata": {},
     "output_type": "execute_result"
    }
   ],
   "source": [
    "df = train_df.append(test_df)\n",
    "df.head()"
   ]
  },
  {
   "cell_type": "code",
   "execution_count": 17,
   "metadata": {
    "collapsed": true
   },
   "outputs": [],
   "source": [
    "vectorizer = TfidfVectorizer(min_df=0.1, lowercase=True, stop_words='english',\n",
    "                                     ngram_range=(1, 3))\n",
    "X = list(df.text)\n",
    "y = list(df.doc_class)\n",
    "\n",
    "# Fit the vectorizer and transform the training notes into a vector\n",
    "X = vectorizer.fit_transform(X)"
   ]
  },
  {
   "cell_type": "code",
   "execution_count": 18,
   "metadata": {
    "collapsed": true
   },
   "outputs": [],
   "source": [
    "X, y = shuffle(X, y)"
   ]
  },
  {
   "cell_type": "markdown",
   "metadata": {},
   "source": [
    "## 2-b - Train Models\n",
    "We will now instantiate our classifiers that we want to compare.\n",
    "\n",
    "- Optimal Logistic Regression: highest-performing model from our last experiment\n",
    "- RandomForestClassifier - the second-highest model\n",
    "- Naive bayes\n",
    "- SVM\n",
    "\n",
    "As well as two low-performing classifiers that we would expect to perform poorly, just to compare against ours.\n",
    "- Dummy Classifier: Randomly predicts based on class distribution\n",
    "- Lowest - the lowest non-zero performing ML classifier"
   ]
  },
  {
   "cell_type": "code",
   "execution_count": 19,
   "metadata": {
    "collapsed": true
   },
   "outputs": [],
   "source": [
    "optimal = LogisticRegression(penalty='l1', C=1.0)\n",
    "forest = RandomForestClassifier(n_estimators=200, max_depth=None, max_features='sqrt', n_jobs=-1)\n",
    "naive = MultinomialNB()\n",
    "svm = LinearSVC(C=0.05)\n",
    "dummy = DummyClassifier()\n",
    "lowest = LogisticRegression(penalty='l1', C=0.1)\n",
    "\n",
    "clfs = [(\"Dummy Classifier\", dummy), (\"Random Forest\", forest), (\"Naive Bayes\", naive), (\"Worst Model\", lowest), (\"SVM\", svm)]"
   ]
  },
  {
   "cell_type": "markdown",
   "metadata": {},
   "source": [
    "# Experiment\n",
    "We will now follow a number of different methods for comparing the performance of these algorithms."
   ]
  },
  {
   "cell_type": "markdown",
   "metadata": {},
   "source": [
    "### k-fold cross validation\n",
    "(see paper)\n",
    "\"\"\"\n",
    "**Summary**: In k-fold cross validation, the data is split in k equal parts. The algorithm is then trained on all data but one fold. That remaining fold is used to test. This gives us *k* accuracy estimates for algorithms A and B.\n",
    "\n",
    "xi is the difference between the two accuracies. The mean x is normally distributed if the algortihms are the same and the folds are sufficiently large.\n",
    "\n",
    "We have a statistic approximating the t distribution with df = k - 1 degrees of freedom.\n",
    "\"\"\"\n",
    "\n",
    "In this section, we will do 10-fold cross-validation, which returns an array of 10 F1 scores for each classifer. For each of the non-optimal classifiers (not the Random Forest that we determined was the highest-performing model in the last notebook), we will compare the two arrays of F1 scores and see if they are significantly different."
   ]
  },
  {
   "cell_type": "code",
   "execution_count": 20,
   "metadata": {
    "collapsed": true
   },
   "outputs": [],
   "source": [
    "# Now do a t-test\n",
    "\n",
    "\n",
    "def compare_model_results(clf1, clf2, X, y, k=10):\n",
    "    \"\"\"\n",
    "    Compares the cross-validated accuracy scores of two different classifiers\n",
    "    using a student's t-test.\n",
    "    Returns the results of the t-test\n",
    "    clf1: the first classifier\n",
    "    clf2: the second classifier\n",
    "    \"\"\"\n",
    "    results1 = cross_val_score(clf1, X, y, cv=k, scoring='f1')\n",
    "    results2 = cross_val_score(clf2, X, y, cv=k, scoring='f1')\n",
    "    f1_1 = np.mean(results1)\n",
    "    f1_2 = np.mean(results2)\n",
    "    return ttest(results1, results2), f1_1, f1_2\n",
    "    "
   ]
  },
  {
   "cell_type": "code",
   "execution_count": 21,
   "metadata": {
    "collapsed": true
   },
   "outputs": [],
   "source": [
    "results = [] # This will hold the scores of the classifiers we are comparing\n",
    "f1_optimals = [] # This will hold the F1 scores of our optimal model"
   ]
  },
  {
   "cell_type": "code",
   "execution_count": 22,
   "metadata": {},
   "outputs": [
    {
     "name": "stdout",
     "output_type": "stream",
     "text": [
      "Dummy Classifier\n",
      "Random Forest\n",
      "Naive Bayes\n",
      "Worst Model\n",
      "SVM\n"
     ]
    }
   ],
   "source": [
    "for (name, clf) in clfs:\n",
    "    print(name)\n",
    "    t, f1_optimal, f1_clf = compare_model_results(optimal, clf, X, y, k=10)\n",
    "    pvalue = t.pvalue\n",
    "    results.append((name, pvalue, f1_clf))\n",
    "    f1_optimals.append(f1_optimal)\n",
    "    \n"
   ]
  },
  {
   "cell_type": "code",
   "execution_count": 23,
   "metadata": {},
   "outputs": [
    {
     "data": {
      "image/png": "[encoded data removed]",
      "text/plain": [
       "<matplotlib.figure.Figure at 0x112bc3b70>"
      ]
     },
     "metadata": {},
     "output_type": "display_data"
    }
   ],
   "source": [
    "import matplotlib.pyplot as plt\n",
    "%matplotlib inline\n",
    "\n",
    "fig, ax = plt.subplots()\n",
    "# Sort from highest F1 to lowest\n",
    "sorted_results = sorted(results, key=lambda x:x[2], reverse=False)\n",
    "names, pvalues, f1s = zip(*sorted_results)\n",
    "\n",
    "# Now plot the P-values and F1 scores for each classifier\n",
    "# F1's\n",
    "ax.plot(range(len(f1s)), f1s, marker='.', label='f1', color='#1f77b4')\n",
    "ax.plot(range(len(f1s)), [np.mean(f1_optimals) for i in range(len(pvalues))], label=' Mean Optimal F1 = 0.74',\n",
    "       color='#1f77b4', linestyle='--')\n",
    "\n",
    "# P-Values\n",
    "ax.plot(range(len(pvalues)), pvalues, label='p-value', marker='.', color='#ff7f0e')\n",
    "ax.plot(range(len(pvalues)), [0.05 for i in range(len(pvalues))], label='Critical Score=0.05', linestyle='--',\n",
    "       color='#ff7f0e')\n",
    "\n",
    "# Plot the optimal score\n",
    "# ax.plot(5, np.mean(f1_optimals), marker='^', markersize=12)\n",
    "\n",
    "ax.set_title(\"F1-scores and p-values of Comparisons between \\nOptimized Logistic Regression and other models\\n\")\n",
    "fig.legend()\n",
    "# Change size\n",
    "fig.set_figheight(fig.get_figheight() * 1.5)\n",
    "fig.set_figwidth(fig.get_figwidth() * 1.5)\n",
    "# ax.set_ylabel(\"p-value\")\n",
    "_ = plt.xticks(range(len(pvalues)), names, rotation=45)"
   ]
  },
  {
   "cell_type": "markdown",
   "metadata": {},
   "source": [
    "# Conclusion\n",
    "This notebook shows that the an ML classifier can predict whether or not a fluid collection is present in a document with statistical significance (p < 0.001). Our best model is a Logistic Regression classifier with a precision of 0.88 and recall of 0.71 and f1 of 0.79. This model outperforms random guessing and the worst model from our set of trained models.\n",
    "\n",
    "However, when comparing against other high-performing models, our model is not significantly better than an SVM, Naive Bayes, or Random Forest. With this in mind, I would actually choose the Random Forest as the optimal model, as the p-value between the two models is very high (0.9) and, although the F1 is slightly worse (`Report Classification.ipynb` showed it to be 0.78), the precision and recall are better balanced (0.82, 0.74 respectively).\n",
    "\n",
    "In conclusion, statistical and ML methods can effectively classify documents for this task. Using conditional probablities and Chi2 tests can reveal the terms that are most likely to indicate a positive document. Machine Learning algorithms can be trained that yield statistically significant results. Testing for the significance between different classifiers led us to choose the classifier with the second-highest F1 due to the better balance between precision and recall. "
   ]
  },
  {
   "cell_type": "markdown",
   "metadata": {},
   "source": [
    "# Next\n",
    "[Discussion](./5 - Discussion.html)"
   ]
  },
  {
   "cell_type": "code",
   "execution_count": null,
   "metadata": {
    "collapsed": true
   },
   "outputs": [],
   "source": []
  }
 ],
 "metadata": {
  "kernelspec": {
   "display_name": "Python 3",
   "language": "python",
   "name": "python3"
  },
  "language_info": {
   "codemirror_mode": {
    "name": "ipython",
    "version": 3
   },
   "file_extension": ".py",
   "mimetype": "text/x-python",
   "name": "python",
   "nbconvert_exporter": "python",
   "pygments_lexer": "ipython3",
   "version": "3.6.4"
  }
 },
 "nbformat": 4,
 "nbformat_minor": 2
}
