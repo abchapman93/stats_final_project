{
 "cells": [
  {
   "cell_type": "markdown",
   "metadata": {},
   "source": [
    "# Identifying Evidence of Surgical Site Infections in Radiology Reports using Machine Learning\n",
    "BMI 6106\n",
    "Final Project by **Alec Chapman** and **Jason McNamee**\n",
    "\n",
    "In our final project, we will be utilizing Machine Learning to identify evidence of Surgical Site Infections (SSIs) using textual radiology reports.\n",
    "\n",
    "The project is structured in this way:\n",
    "1. `Project Introduction` - an overview of the task and the data\n",
    "2. `Data Exploration` - analyzing the data using descriptive statistics and probablity measurements of vocabulary\n",
    "3. `Report Classification` - training and evaluating a number of different Machine Learning classifiers\n",
    "4. `Analysis` - Analyzing the results and testing for statistical significance\n",
    "5. `Discussion`"
   ]
  },
  {
   "cell_type": "markdown",
   "metadata": {},
   "source": [
    "## Abstract\n",
    "*Free-text reports in electronic health records (EHRs) contain medically significant information - signs, symptoms,\n",
    "findings, diagnoses - recorded by clinicians during patient encounters. These reports contain rich clinical\n",
    "information which can be leveraged for surveillance of disease and occurrence of adverse events. In order to gain\n",
    "meaningful knowledge from these text reports to support surveillance ef orts, information must first be converted\n",
    "into a structured, computable format. Traditional methods rely on manual review of charts, which can be costly and\n",
    "ineficient. Natural language processing (NLP) methods offer an efficient, alternative approach to extracting the\n",
    "information and can achieve a similar level of accuracy. We utilized statistical and probabalistic methods to examine properties of radiology reports and determine whether or not text-based Machine Learning (ML) algorithms could effectively classify reports containing evidence of surgical site infections leveraging these mentions. We evaluated our system using a reference standard of reports annotated by domain experts and test for statistical significance.*"
   ]
  },
  {
   "cell_type": "markdown",
   "metadata": {},
   "source": [
    "# Introduction"
   ]
  },
  {
   "cell_type": "markdown",
   "metadata": {},
   "source": [
    "## Data Hypothesis\n",
    "- **Null Hypothesis**: the vocabulary used to describe patients who have fluid collections and who do not have fluid collections is the same.\n",
    "- **Alternative Hypothesis**: the vocabulary used to describe patients who have fluid collections and who do not have fluid collections is significantly different and can be used to classify reports."
   ]
  },
  {
   "cell_type": "markdown",
   "metadata": {},
   "source": [
    "## Task Overview\n",
    "SSIs are adverse outcomes of surgeries. There are multiple of SSIs and they can result in rehospitalization or death. Many SSIs occur after discharge and so they are difficult to detect. Natural Language Processing (NLP) offers a way to automatically and effectively detect surgical site infections. In this project we will be focusing on Deep/Organ Space SSIs, which are often identified in radiology reports as **collections of fluid.**\n",
    "\n",
    "In a past project that was presented at AMIA [see *Discussion/References - 10*], a rule-based NLP system to identify fluid collections in radiology reports was developed. A hand-crafted lexicon was used to identify mentions of fluid collection. This lexicon terms such as:\n",
    "\n",
    "- \"fluid collection\"\n",
    "- \"hematoma\"\n",
    "- \"abscess\"\n",
    "- \"biloma\"\n",
    "- \"multiloculated fluid\"\n",
    "\n",
    "This lexicon was handcrafted by having clinicians hand-annotate data. Creating such detailed annotations was a costly and difficult process. The purpose of this project is to use a much coarser annotation as labels: a binary decision of whether or not a fluid collection is present. We will then use probablistic methods to identify salient terms that could belong to the lexicon and then train Machine Learning (ML) algorithms to make this distinction between positive and negative reports."
   ]
  },
  {
   "cell_type": "markdown",
   "metadata": {},
   "source": [
    "# Methods\n",
    "- Data\n",
    "- Data Exploration\n",
    "- Report Classification - Training ML Algorithms\n",
    "- Analysis - Testing for significance and comparing results"
   ]
  },
  {
   "cell_type": "markdown",
   "metadata": {},
   "source": [
    "# Data\n",
    "In this project, we will use a dataset that consists of 645 deidentifed CT reports (545 training, 100 validation) from MIMIC that have been annotated by two expert clinicians. The annotation study included two goals: \n",
    "1. **Mention-level annotation**: specific spans of text were annotated that represented a clinical concept related to fluid collections\n",
    "2. **Document-level annotation**: an overall judgement about whether or not a fluid collection was present in the document.\n",
    "\n",
    "For this project we will be focusing exclusively on the second task.\n",
    "\n",
    "Let's take a look at the data:"
   ]
  },
  {
   "cell_type": "code",
   "execution_count": 2,
   "metadata": {},
   "outputs": [
    {
     "data": {
      "text/plain": [
       "True"
      ]
     },
     "execution_count": 2,
     "metadata": {},
     "output_type": "execute_result"
    }
   ],
   "source": [
    "import os\n",
    "import pandas as pd\n",
    "import sqlite3 as sqlite\n",
    "\n",
    "DATADIR = '../stats_data'\n",
    "DB = os.path.join(DATADIR, 'Reference Standard', 'radiology_reports.sqlite')\n",
    "os.path.exists(DB)"
   ]
  },
  {
   "cell_type": "code",
   "execution_count": 4,
   "metadata": {},
   "outputs": [
    {
     "name": "stdout",
     "output_type": "stream",
     "text": [
      "(545, 8)\n"
     ]
    },
    {
     "data": {
      "text/html": [
       "<div>\n",
       "<style scoped>\n",
       "    .dataframe tbody tr th:only-of-type {\n",
       "        vertical-align: middle;\n",
       "    }\n",
       "\n",
       "    .dataframe tbody tr th {\n",
       "        vertical-align: top;\n",
       "    }\n",
       "\n",
       "    .dataframe thead th {\n",
       "        text-align: right;\n",
       "    }\n",
       "</style>\n",
       "<table border=\"1\" class=\"dataframe\">\n",
       "  <thead>\n",
       "    <tr style=\"text-align: right;\">\n",
       "      <th></th>\n",
       "      <th>rowid</th>\n",
       "      <th>name</th>\n",
       "      <th>text</th>\n",
       "      <th>referenceXML</th>\n",
       "      <th>doc_class</th>\n",
       "      <th>subject</th>\n",
       "      <th>HADM_ID</th>\n",
       "      <th>CHARTDATE</th>\n",
       "    </tr>\n",
       "  </thead>\n",
       "  <tbody>\n",
       "    <tr>\n",
       "      <th>0</th>\n",
       "      <td>1</td>\n",
       "      <td>No_10792_131562_05-29-20</td>\n",
       "      <td>\\n CT ABDOMEN W/CONTRAST; CT PELVIS W/CONTRAS...</td>\n",
       "      <td>&lt;?xml version=\"1.0\" encoding=\"UTF-8\"?&gt;\\n&lt;annot...</td>\n",
       "      <td>0</td>\n",
       "      <td>32</td>\n",
       "      <td>131562</td>\n",
       "      <td>05-29-20</td>\n",
       "    </tr>\n",
       "    <tr>\n",
       "      <th>1</th>\n",
       "      <td>2</td>\n",
       "      <td>No_11050_126785_11-03-33</td>\n",
       "      <td>\\n CT CHEST W/CONTRAST; CT ABDOMEN W/CONTRAST...</td>\n",
       "      <td>&lt;?xml version=\"1.0\" encoding=\"UTF-8\"?&gt;\\n&lt;annot...</td>\n",
       "      <td>0</td>\n",
       "      <td>34</td>\n",
       "      <td>126785</td>\n",
       "      <td>11-03-33</td>\n",
       "    </tr>\n",
       "    <tr>\n",
       "      <th>2</th>\n",
       "      <td>3</td>\n",
       "      <td>No_11879_166554_06-22-37</td>\n",
       "      <td>\\n CTA CHEST W&amp;W/O C &amp;RECONS; CT 100CC NON IO...</td>\n",
       "      <td>&lt;?xml version=\"1.0\" encoding=\"UTF-8\"?&gt;\\n&lt;annot...</td>\n",
       "      <td>0</td>\n",
       "      <td>35</td>\n",
       "      <td>166554</td>\n",
       "      <td>06-22-37</td>\n",
       "    </tr>\n",
       "    <tr>\n",
       "      <th>3</th>\n",
       "      <td>4</td>\n",
       "      <td>No_11879_166554_06-23-37</td>\n",
       "      <td>\\n CT ABDOMEN W/O CONTRAST; CT PELVIS W/O CON...</td>\n",
       "      <td>&lt;?xml version=\"1.0\" encoding=\"UTF-8\"?&gt;\\n&lt;annot...</td>\n",
       "      <td>0</td>\n",
       "      <td>35</td>\n",
       "      <td>166554</td>\n",
       "      <td>06-23-37</td>\n",
       "    </tr>\n",
       "    <tr>\n",
       "      <th>4</th>\n",
       "      <td>5</td>\n",
       "      <td>No_11879_166554_07-02-37</td>\n",
       "      <td>\\n CT CHEST W/O CONTRAST \\n ~ Reason: r/o ste...</td>\n",
       "      <td>&lt;?xml version=\"1.0\" encoding=\"UTF-8\"?&gt;\\n&lt;annot...</td>\n",
       "      <td>0</td>\n",
       "      <td>35</td>\n",
       "      <td>166554</td>\n",
       "      <td>07-02-37</td>\n",
       "    </tr>\n",
       "  </tbody>\n",
       "</table>\n",
       "</div>"
      ],
      "text/plain": [
       "   rowid                      name  \\\n",
       "0      1  No_10792_131562_05-29-20   \n",
       "1      2  No_11050_126785_11-03-33   \n",
       "2      3  No_11879_166554_06-22-37   \n",
       "3      4  No_11879_166554_06-23-37   \n",
       "4      5  No_11879_166554_07-02-37   \n",
       "\n",
       "                                                text  \\\n",
       "0   \\n CT ABDOMEN W/CONTRAST; CT PELVIS W/CONTRAS...   \n",
       "1   \\n CT CHEST W/CONTRAST; CT ABDOMEN W/CONTRAST...   \n",
       "2   \\n CTA CHEST W&W/O C &RECONS; CT 100CC NON IO...   \n",
       "3   \\n CT ABDOMEN W/O CONTRAST; CT PELVIS W/O CON...   \n",
       "4   \\n CT CHEST W/O CONTRAST \\n ~ Reason: r/o ste...   \n",
       "\n",
       "                                        referenceXML  doc_class  subject  \\\n",
       "0  <?xml version=\"1.0\" encoding=\"UTF-8\"?>\\n<annot...          0       32   \n",
       "1  <?xml version=\"1.0\" encoding=\"UTF-8\"?>\\n<annot...          0       34   \n",
       "2  <?xml version=\"1.0\" encoding=\"UTF-8\"?>\\n<annot...          0       35   \n",
       "3  <?xml version=\"1.0\" encoding=\"UTF-8\"?>\\n<annot...          0       35   \n",
       "4  <?xml version=\"1.0\" encoding=\"UTF-8\"?>\\n<annot...          0       35   \n",
       "\n",
       "   HADM_ID CHARTDATE  \n",
       "0   131562  05-29-20  \n",
       "1   126785  11-03-33  \n",
       "2   166554  06-22-37  \n",
       "3   166554  06-23-37  \n",
       "4   166554  07-02-37  "
      ]
     },
     "execution_count": 4,
     "metadata": {},
     "output_type": "execute_result"
    }
   ],
   "source": [
    "conn = sqlite.connect(DB)\n",
    "df = pd.read_sql(\"SELECT * FROM training_notes;\", conn)\n",
    "\n",
    "conn.close()\n",
    "\n",
    "print(df.shape)\n",
    "df.head()"
   ]
  },
  {
   "cell_type": "markdown",
   "metadata": {},
   "source": [
    "The training set consists of 545 reports. We will only be using two columns:\n",
    "- ``text``: the original text of the radiology report\n",
    "- ``doc_class``: whether or not a fluid collection is present. **1** indicates a positive document while **0** indicates a negative.\n",
    "\n",
    "Let's look at two reports:\n",
    "\n",
    "First, a negative report. Note the following excerpt in the Impression section:\n",
    "- \"No abnormal intra-abdominal fluid collections identified.\""
   ]
  },
  {
   "cell_type": "code",
   "execution_count": 8,
   "metadata": {},
   "outputs": [
    {
     "name": "stdout",
     "output_type": "stream",
     "text": [
      " \n",
      " CT ABDOMEN W/CONTRAST; CT PELVIS W/CONTRAST \n",
      " ~ Reason: assess for undrained collections w/PO and IV contrast\n",
      " ~ Admitting Diagnosis: BILE DUCT INJURY\n",
      "  Contrast: OPTIRAY Amt: 130\n",
      " \n",
      "\n",
      " ~ UNDERLYING MEDICAL CONDITION:\n",
      "  83 year old man with hepaticojejunostomy , now w/some bilious output in JP\n",
      "  drain\n",
      " ~ REASON FOR THIS EXAMINATION:\n",
      "  assess for undrained collections w/PO and IV contrast\n",
      " No contraindications for IV contrast\n",
      " \n",
      "\n",
      " ~ FINAL REPORT\n",
      " HISTORY:  83-year-old man status post hepaticojejunostomy, , with\n",
      " increased bilious output in the JP drain.  Evaluate for fluid collections.\n",
      " Comparison is made to a prior CT examination dated .\n",
      " ~ TECHNIQUE:  MDCT-acquired axial images were obtained through the abdomen and\n",
      " pelvis with oral and intravenous contrast.  Coronal and sagittal reformations\n",
      " were evaluated.\n",
      " ~ CT OF THE ABDOMEN WITH INTRAVENOUS CONTRAST:  Limited examination of the lung\n",
      " bases displays persistent small bilateral pleural effusions (right greater\n",
      " than left) with adjacent compression atelectasis.  Patient is noted to be\n",
      " status post hepaticojejunostomy with a JP drain and a biliary drain exiting\n",
      " externally along the right anterior abdominal wall.  No abnormal fluid\n",
      " collections are identified.  The intra-abdominal bowel appears grossly\n",
      " unremarkable.  Mild inflammatory changes in the fat surrounding the surgical\n",
      " site are identified, expected postoperatively, as is multiple small pockets of\n",
      " free air within the abdominal cavity.  The liver, spleen, pancreas, adrenal\n",
      " glands, and right kidney appear grossly normal.  There is unchanged appearance\n",
      " to simple cysts within the left kidney.  No evidence of renal calculi or\n",
      " hydronephrosis.  No pathologically enlarged lymph nodes are identified.  Mild\n",
      " calcification is noted within the coronary vascular tree and intra-abdominal\n",
      " aorta.\n",
      " ~ CT OF THE PELVIS WITH INTRAVENOUS CONTRAST:  There is extensive colonic\n",
      " diverticulosis without evidence of acute diverticulitis as well as small\n",
      " bilateral fat-containing inguinal hernias.  Decompressed air and Foley\n",
      " containing urinary bladder appears unremarkable.  No free fluid is noted\n",
      " within the pelvic cavity and no pathologically enlarged lymph nodes are\n",
      " identified.\n",
      " BONE WINDOWS:  No malignant-appearing osseous lesions are identified.  There\n",
      " are extensive degenerative changes with multiple bridging anterior osteophyte\n",
      " formation in the thoracolumbar spine.\n",
      " ~ IMPRESSION:\n",
      " -  No abnormal intra-abdominal fluid collections identified.  Expected\n",
      " postoperative inflammatory stranding of the fat and small pockets of intra-\n",
      " abdominal free air.\n",
      " \n",
      " -  Small bilateral pleural effusions with compression atelectasis.\n",
      " -  Extensive colonic diverticulosis without evidence of acute diverticulitis.\n",
      " -  Bilateral fat containing inguinal hernias.\n",
      "\n"
     ]
    }
   ],
   "source": [
    "neg_report = df[df.doc_class == 0].text.iloc[0]\n",
    "print(neg_report)"
   ]
  },
  {
   "cell_type": "markdown",
   "metadata": {},
   "source": [
    "Now a positive report. Note in the Impression Section:\n",
    "- \"A drainage catheter coursing through 6 cm fluid collection in Morison's pouch\""
   ]
  },
  {
   "cell_type": "code",
   "execution_count": 9,
   "metadata": {},
   "outputs": [
    {
     "name": "stdout",
     "output_type": "stream",
     "text": [
      " \n",
      " CT ABDOMEN W/CONTRAST; CT PELVIS W/CONTRAST \n",
      " ~ Reason: assess for bowel obstruction, r/o collectionplease use po/iv\n",
      " ~ Admitting Diagnosis: LIVER TRANSPLANT\n",
      " Field of view: 36 Contrast: OPTIRAY Amt: 150\n",
      " \n",
      "\n",
      " ~ UNDERLYING MEDICAL CONDITION:\n",
      " 30 year old man pod 11 s/p liver transplant with distended abd, nausea\n",
      " ~ REASON FOR THIS EXAMINATION:\n",
      "  assess for bowel obstruction, r/o collectionplease use po/iv contrast\n",
      " No contraindications for IV contrast\n",
      " \n",
      "\n",
      " ~ FINAL REPORT\n",
      " ~ INDICATION:  Postop day eleven status post liver transplant with abdominal\n",
      " pain.\n",
      " ~ COMPARISON:  .\n",
      " ~ TECHNIQUE:  Contrast-enhanced axial CT imaging with multiplanar reformats of\n",
      " the abdomen and pelvis was reviewed.\n",
      " CT ABDOMEN WITH CONTRAST:  There is a small right pleural effusion and a\n",
      " bibasilar atelectasis.  Heart is unremarkable.  There is gynecomastia. The\n",
      " liver enhances homogeneously.  The hepatic vasculature including hepatic\n",
      " arteries, portal veins, and hepatic veins are patent.  A round 15 mm soft\n",
      " tissue structure at the portahepatus is likely surgical Gelfoam.  A small\n",
      " amount of fluid measuring simple attenuation is present about the liver. There\n",
      " is no intraductal dilation.  Within Morison's pouch is an enhancing collection\n",
      " with a drainage catheter coursing at this site.  No air is present within the\n",
      " fluid collection.  Tiny foci of postoperative intraperitoneal air is present.\n",
      " Proximal small bowel loops are normal caliber.  No pathologic adenopathy is\n",
      " identified.  Unusual lobulation of the spleen is unchanged, and heterogeneous\n",
      " fluid collection about the spleen is slightly smaller, today measuring -6 x\n",
      " -5 cm (previously -9 x -0 cm), most consistent with hematoma.\n",
      " CT PELVIS WITH CONTRAST:  The rectum, sigmoid, and large bowel are\n",
      " unremarkable.  Fluid containing distal small bowel loops are prominent, but\n",
      " not dilated.  The bladder is normal.  The prostate is normal.\n",
      " BONE WINDOWS:  Osseous structures are unremarkable.\n",
      " ~ IMPRESSION:\n",
      " -  A drainage catheter coursing through 6 cm fluid collection in Morison's\n",
      " pouch, likely postoperative peritoneal enhancement, but correlation with drain\n",
      " output would be helpful to assure non-infectious etiology.\n",
      " -  Small simple fluid about liver.\n",
      " -  Improving perisplenic heterogeneous fluid collection.\n",
      " \n",
      "\n"
     ]
    }
   ],
   "source": [
    "pos_report = df[df.doc_class == 1].text.iloc[0]\n",
    "print(pos_report)"
   ]
  },
  {
   "cell_type": "markdown",
   "metadata": {},
   "source": [
    "# Up Next\n",
    "[Data Exploration](./Data Exploration.ipynb)"
   ]
  },
  {
   "cell_type": "code",
   "execution_count": null,
   "metadata": {
    "collapsed": true
   },
   "outputs": [],
   "source": []
  }
 ],
 "metadata": {
  "kernelspec": {
   "display_name": "Python 3",
   "language": "python",
   "name": "python3"
  },
  "language_info": {
   "codemirror_mode": {
    "name": "ipython",
    "version": 3
   },
   "file_extension": ".py",
   "mimetype": "text/x-python",
   "name": "python",
   "nbconvert_exporter": "python",
   "pygments_lexer": "ipython3",
   "version": "3.6.4"
  }
 },
 "nbformat": 4,
 "nbformat_minor": 2
}
