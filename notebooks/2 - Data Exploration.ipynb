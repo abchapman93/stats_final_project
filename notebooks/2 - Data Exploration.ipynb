{
 "cells": [
  {
   "cell_type": "markdown",
   "metadata": {},
   "source": [
    "This Notebook consists of two parts:\n",
    "\n",
    "### 1. Report exploration\n",
    "In this section we apply descriptive statistics to look at two features of the reports: the length of each report and the number of unique words in the report. We visualize these features using histograms and boxplots.\n",
    "\n",
    "### 2. Term Salience Ranking\n",
    "In this section, we consider two different populations: \n",
    "1. Positive notes, which are labeled as indicating for fluid collection\n",
    "2. Negative notes, which are labeled as not indicating fluid collection.\n",
    "Our aim in this project is to classify reports using only unstructured textual data. In this section we will explore whether there are certain terms that are strongly associated with the postiive class and could be used as features in a Supervised Machine Learning Algorithm."
   ]
  },
  {
   "cell_type": "code",
   "execution_count": 245,
   "metadata": {},
   "outputs": [
    {
     "data": {
      "text/plain": [
       "True"
      ]
     },
     "execution_count": 245,
     "metadata": {},
     "output_type": "execute_result"
    }
   ],
   "source": [
    "import os, sys\n",
    "import pickle\n",
    "import numpy as np\n",
    "import scipy\n",
    "\n",
    "import sqlite3 as sqlite\n",
    "\n",
    "import pandas as pd\n",
    "from nltk.tokenize import word_tokenize\n",
    "import matplotlib.pyplot as plt\n",
    "import matplotlib.mlab as mlab\n",
    "%matplotlib inline\n",
    "from sklearn.feature_selection import chi2, SelectKBest\n",
    "\n",
    "from nltk.corpus import stopwords\n",
    "from nltk.util import ngrams\n",
    "from collections import defaultdict, Counter\n",
    "stop = set(stopwords.words('english'))\n",
    "\n",
    "DATADIR = '../stats_data'\n",
    "DB = os.path.join(DATADIR, 'Reference Standard', 'radiology_reports.sqlite')\n",
    "os.path.exists(DB)"
   ]
  },
  {
   "cell_type": "code",
   "execution_count": 219,
   "metadata": {
    "collapsed": true
   },
   "outputs": [],
   "source": [
    "conn = sqlite.connect(DB)\n",
    "df = pd.read_sql(\"SELECT * FROM training_notes;\", conn)\n",
    "\n",
    "conn.close()"
   ]
  },
  {
   "cell_type": "code",
   "execution_count": 220,
   "metadata": {},
   "outputs": [
    {
     "data": {
      "text/html": [
       "<div>\n",
       "<style scoped>\n",
       "    .dataframe tbody tr th:only-of-type {\n",
       "        vertical-align: middle;\n",
       "    }\n",
       "\n",
       "    .dataframe tbody tr th {\n",
       "        vertical-align: top;\n",
       "    }\n",
       "\n",
       "    .dataframe thead th {\n",
       "        text-align: right;\n",
       "    }\n",
       "</style>\n",
       "<table border=\"1\" class=\"dataframe\">\n",
       "  <thead>\n",
       "    <tr style=\"text-align: right;\">\n",
       "      <th></th>\n",
       "      <th>rowid</th>\n",
       "      <th>name</th>\n",
       "      <th>text</th>\n",
       "      <th>referenceXML</th>\n",
       "      <th>doc_class</th>\n",
       "      <th>subject</th>\n",
       "      <th>HADM_ID</th>\n",
       "      <th>CHARTDATE</th>\n",
       "    </tr>\n",
       "  </thead>\n",
       "  <tbody>\n",
       "    <tr>\n",
       "      <th>0</th>\n",
       "      <td>1</td>\n",
       "      <td>No_10792_131562_05-29-20</td>\n",
       "      <td>\\n CT ABDOMEN W/CONTRAST; CT PELVIS W/CONTRAS...</td>\n",
       "      <td>&lt;?xml version=\"1.0\" encoding=\"UTF-8\"?&gt;\\n&lt;annot...</td>\n",
       "      <td>0</td>\n",
       "      <td>32</td>\n",
       "      <td>131562</td>\n",
       "      <td>05-29-20</td>\n",
       "    </tr>\n",
       "    <tr>\n",
       "      <th>1</th>\n",
       "      <td>2</td>\n",
       "      <td>No_11050_126785_11-03-33</td>\n",
       "      <td>\\n CT CHEST W/CONTRAST; CT ABDOMEN W/CONTRAST...</td>\n",
       "      <td>&lt;?xml version=\"1.0\" encoding=\"UTF-8\"?&gt;\\n&lt;annot...</td>\n",
       "      <td>0</td>\n",
       "      <td>34</td>\n",
       "      <td>126785</td>\n",
       "      <td>11-03-33</td>\n",
       "    </tr>\n",
       "    <tr>\n",
       "      <th>2</th>\n",
       "      <td>3</td>\n",
       "      <td>No_11879_166554_06-22-37</td>\n",
       "      <td>\\n CTA CHEST W&amp;W/O C &amp;RECONS; CT 100CC NON IO...</td>\n",
       "      <td>&lt;?xml version=\"1.0\" encoding=\"UTF-8\"?&gt;\\n&lt;annot...</td>\n",
       "      <td>0</td>\n",
       "      <td>35</td>\n",
       "      <td>166554</td>\n",
       "      <td>06-22-37</td>\n",
       "    </tr>\n",
       "    <tr>\n",
       "      <th>3</th>\n",
       "      <td>4</td>\n",
       "      <td>No_11879_166554_06-23-37</td>\n",
       "      <td>\\n CT ABDOMEN W/O CONTRAST; CT PELVIS W/O CON...</td>\n",
       "      <td>&lt;?xml version=\"1.0\" encoding=\"UTF-8\"?&gt;\\n&lt;annot...</td>\n",
       "      <td>0</td>\n",
       "      <td>35</td>\n",
       "      <td>166554</td>\n",
       "      <td>06-23-37</td>\n",
       "    </tr>\n",
       "    <tr>\n",
       "      <th>4</th>\n",
       "      <td>5</td>\n",
       "      <td>No_11879_166554_07-02-37</td>\n",
       "      <td>\\n CT CHEST W/O CONTRAST \\n ~ Reason: r/o ste...</td>\n",
       "      <td>&lt;?xml version=\"1.0\" encoding=\"UTF-8\"?&gt;\\n&lt;annot...</td>\n",
       "      <td>0</td>\n",
       "      <td>35</td>\n",
       "      <td>166554</td>\n",
       "      <td>07-02-37</td>\n",
       "    </tr>\n",
       "  </tbody>\n",
       "</table>\n",
       "</div>"
      ],
      "text/plain": [
       "   rowid                      name  \\\n",
       "0      1  No_10792_131562_05-29-20   \n",
       "1      2  No_11050_126785_11-03-33   \n",
       "2      3  No_11879_166554_06-22-37   \n",
       "3      4  No_11879_166554_06-23-37   \n",
       "4      5  No_11879_166554_07-02-37   \n",
       "\n",
       "                                                text  \\\n",
       "0   \\n CT ABDOMEN W/CONTRAST; CT PELVIS W/CONTRAS...   \n",
       "1   \\n CT CHEST W/CONTRAST; CT ABDOMEN W/CONTRAST...   \n",
       "2   \\n CTA CHEST W&W/O C &RECONS; CT 100CC NON IO...   \n",
       "3   \\n CT ABDOMEN W/O CONTRAST; CT PELVIS W/O CON...   \n",
       "4   \\n CT CHEST W/O CONTRAST \\n ~ Reason: r/o ste...   \n",
       "\n",
       "                                        referenceXML  doc_class  subject  \\\n",
       "0  <?xml version=\"1.0\" encoding=\"UTF-8\"?>\\n<annot...          0       32   \n",
       "1  <?xml version=\"1.0\" encoding=\"UTF-8\"?>\\n<annot...          0       34   \n",
       "2  <?xml version=\"1.0\" encoding=\"UTF-8\"?>\\n<annot...          0       35   \n",
       "3  <?xml version=\"1.0\" encoding=\"UTF-8\"?>\\n<annot...          0       35   \n",
       "4  <?xml version=\"1.0\" encoding=\"UTF-8\"?>\\n<annot...          0       35   \n",
       "\n",
       "   HADM_ID CHARTDATE  \n",
       "0   131562  05-29-20  \n",
       "1   126785  11-03-33  \n",
       "2   166554  06-22-37  \n",
       "3   166554  06-23-37  \n",
       "4   166554  07-02-37  "
      ]
     },
     "execution_count": 220,
     "metadata": {},
     "output_type": "execute_result"
    }
   ],
   "source": [
    "df.head()"
   ]
  },
  {
   "cell_type": "markdown",
   "metadata": {},
   "source": [
    "# 1. Exploring Report Lengths and Vocabulary\n",
    "\n",
    "To get a general sense of what our data looks like, we'll examine two features of the report: First, the length of the reports, and second, the number of unique words in each report. \n",
    "\n"
   ]
  },
  {
   "cell_type": "code",
   "execution_count": 326,
   "metadata": {
    "collapsed": true
   },
   "outputs": [],
   "source": [
    "# Define some helper functions\n",
    "def display_statistics(arr, var_name):\n",
    "    \"\"\"\n",
    "    Displays the mean and other descriptive statisistics \n",
    "    for an array of data.\n",
    "    \"\"\"\n",
    "    print(\"Mean {}: {}\".format(var_name, np.mean(arr)))\n",
    "    print(\"Standard deviation {}: {}\".format(var_name, np.std(arr)))\n",
    "    print(\"Max {}: {}\".format(var_name, np.max(arr)))\n",
    "    print(\"Min {}: {}\".format(var_name, np.min(arr)))\n",
    "    \n",
    "    \n",
    "def plot_hist(arr, var_name):\n",
    "    \"\"\"\n",
    "    Plots a histogram for an array of data.\n",
    "    Adds a vertical solid line showing the mean\n",
    "    and a dashed line showing the probablity distribution function (PDF)\n",
    "    \"\"\"\n",
    "    num_total = len(arr)\n",
    "    fig, ax = plt.subplots()\n",
    "    n, bins, patches = ax.hist(arr, normed=1, alpha=0.9)\n",
    "    \n",
    "    # Add a line with the mean\n",
    "    mean_value = np.mean(arr)\n",
    "    ax.axvline(x=mean_value, c='orange')\n",
    "    \n",
    "    \n",
    "    # Add a best fit line\n",
    "    mu, sigma = scipy.stats.norm.fit(arr)\n",
    "\n",
    "    y = mlab.normpdf(bins, mu, sigma)\n",
    "    \n",
    "    L = plt.plot(bins, y, 'r--', linewidth=2)\n",
    "    \n",
    "    \n",
    "    ax.set_title(\"Distribution of {}\".format(var_name))\n",
    "    return fig, ax\n",
    "\n",
    "def plot_boxplot(arr, var_name):\n",
    "    fig, ax = plt.subplots()\n",
    "    ax.boxplot(arr)\n",
    "    ax.set_title(\"Distribution of {}\".format(var_name))\n",
    "    return fig, ax\n",
    "\n",
    "def count_unique_words(text):\n",
    "    \"\"\"\n",
    "    Counts the number of unique words in a text\n",
    "    \"\"\"\n",
    "    return len(set(word_tokenize(text)))"
   ]
  },
  {
   "cell_type": "markdown",
   "metadata": {},
   "source": [
    "### 1a. Report Lengths"
   ]
  },
  {
   "cell_type": "code",
   "execution_count": 276,
   "metadata": {
    "collapsed": true
   },
   "outputs": [],
   "source": [
    "# Average lengths of reports\n",
    "df[\"text\"] = df.text.apply(lambda x: x.lower())\n",
    "reports = df.text"
   ]
  },
  {
   "cell_type": "code",
   "execution_count": 277,
   "metadata": {},
   "outputs": [
    {
     "data": {
      "text/plain": [
       "545"
      ]
     },
     "execution_count": 277,
     "metadata": {},
     "output_type": "execute_result"
    }
   ],
   "source": [
    "len(reports)"
   ]
  },
  {
   "cell_type": "code",
   "execution_count": 278,
   "metadata": {
    "collapsed": true
   },
   "outputs": [],
   "source": [
    "rpt_lengths = [len(x) for x in reports]"
   ]
  },
  {
   "cell_type": "code",
   "execution_count": 279,
   "metadata": {},
   "outputs": [
    {
     "name": "stdout",
     "output_type": "stream",
     "text": [
      "Mean Report Length: 3443.256880733945\n",
      "Standard deviation Report Length: 1516.280203363879\n",
      "Max Report Length: 8806\n",
      "Min Report Length: 393\n"
     ]
    }
   ],
   "source": [
    "display_statistics(rpt_lengths, \"Report Length\")"
   ]
  },
  {
   "cell_type": "code",
   "execution_count": 329,
   "metadata": {},
   "outputs": [
    {
     "data": {
      "image/png": "[encoded data removed]",
      "text/plain": [
       "<matplotlib.figure.Figure at 0x1238e5c88>"
      ]
     },
     "metadata": {},
     "output_type": "display_data"
    }
   ],
   "source": [
    "fig, ax =plot_hist(rpt_lengths, \"Report Length\")\n",
    "# ax.set_ylabel(\"% Reports\")\n",
    "_ = ax.set_xlabel(\"Length of Report\")\n",
    "_ = ax.set_yticks([])"
   ]
  },
  {
   "cell_type": "code",
   "execution_count": 321,
   "metadata": {},
   "outputs": [
    {
     "data": {
      "text/plain": [
       "Text(0,0.5,'Length of Report')"
      ]
     },
     "execution_count": 321,
     "metadata": {},
     "output_type": "execute_result"
    },
    {
     "data": {
      "image/png": "[encoded data removed]",
      "text/plain": [
       "<matplotlib.figure.Figure at 0x11b4ad7f0>"
      ]
     },
     "metadata": {},
     "output_type": "display_data"
    }
   ],
   "source": [
    "fig, ax = plot_boxplot(rpt_lengths, \"Report Length\")\n",
    "ax.set_ylabel(\"Length of Report\")"
   ]
  },
  {
   "cell_type": "markdown",
   "metadata": {},
   "source": [
    "### 1b. Number of Unique Words in a Report"
   ]
  },
  {
   "cell_type": "code",
   "execution_count": 282,
   "metadata": {
    "collapsed": true
   },
   "outputs": [],
   "source": [
    "unique_word_counts = [count_unique_words(r) for r in reports]"
   ]
  },
  {
   "cell_type": "code",
   "execution_count": 283,
   "metadata": {},
   "outputs": [
    {
     "name": "stdout",
     "output_type": "stream",
     "text": [
      "Mean Unique Word Count: 236.81284403669724\n",
      "Standard deviation Unique Word Count: 78.47597552189644\n",
      "Max Unique Word Count: 477\n",
      "Min Unique Word Count: 48\n"
     ]
    }
   ],
   "source": [
    "display_statistics(unique_word_counts, \"Unique Word Count\")"
   ]
  },
  {
   "cell_type": "code",
   "execution_count": 330,
   "metadata": {},
   "outputs": [
    {
     "data": {
      "image/png": "[encoded data removed]",
      "text/plain": [
       "<matplotlib.figure.Figure at 0x12287d0b8>"
      ]
     },
     "metadata": {},
     "output_type": "display_data"
    }
   ],
   "source": [
    "fig, ax = plot_hist(unique_word_counts, \"Unique Word Count\")\n",
    "ax.set_xlabel(\"# unique words in report\")\n",
    "# _ = ax.set_ylabel(\"% Reports\")\n",
    "_ = ax.set_yticks([])"
   ]
  },
  {
   "cell_type": "markdown",
   "metadata": {},
   "source": [
    "# 2. Ranking the salience of words\n",
    "\n",
    "Our task is determining whether or not a fluid collection is present based on the text. To do this, we'll examine the vocabulary and determine which words are most indicitive of a positive document.\n",
    "\n",
    "We'll use two methods for this:\n",
    "#### a. Conditional Probablity\n",
    "We want to compute the probability of the class \"Fluid collection - positive\" given a particular word. This is calculated as:\n",
    "\n",
    "\n",
    "$$P(positive | word) = \\frac{P(positive, word)}{P(word)}$$\n",
    "\n",
    "We'll count the number of times that term appears in a positive or a negative document. We'll then use this to compute the conditional probablity of each term and analyze the terms that are most strongly associated with positive documents.\n",
    "\n",
    "#### b. Chi2 Test\n",
    "We'll use a Chi2 test of statistical independence to determine how strongly a particular word is associated with the positive class. For this we'll use the library `sklearn`.\n",
    "\n",
    "\n",
    "### 2a. Conditional Probablity"
   ]
  },
  {
   "cell_type": "code",
   "execution_count": 285,
   "metadata": {
    "collapsed": true
   },
   "outputs": [],
   "source": [
    "# We'll consider unigrams and bigrams (one and two-word phrases)\n",
    "ngram_reports = []\n",
    "for text in df.text:\n",
    "    tokens = []\n",
    "    unigrams = [t for t in word_tokenize(text) if t not in stop]\n",
    "    tokens += [(word, ) for word in unigrams]\n",
    "    tokens += ngrams(unigrams, 2)\n",
    "\n",
    "    ngram_reports.append(tokens)"
   ]
  },
  {
   "cell_type": "code",
   "execution_count": 286,
   "metadata": {
    "collapsed": true
   },
   "outputs": [],
   "source": [
    "# Create a dictionary that counts how many times a word occurs in either a positive or negative report\n",
    "vocab = {}\n",
    "for i, row in df.iterrows():\n",
    "    grams = ngram_reports[i]\n",
    "    c = 'negative' if row.doc_class == 0 else 'positive'\n",
    "    for gram in grams:\n",
    "        if gram not in vocab:\n",
    "            vocab[gram] = {'positive': 0, 'negative': 0}\n",
    "        vocab[gram][c] += 1"
   ]
  },
  {
   "cell_type": "code",
   "execution_count": null,
   "metadata": {
    "collapsed": true,
    "scrolled": false
   },
   "outputs": [],
   "source": [
    "# Limit to words that occur at least 10 times to cut out some noise\n",
    "cond_probs = {}\n",
    "for gram, d in vocab.items():\n",
    "    total_count = d['negative'] + d['positive']\n",
    "    if total_count < 10:\n",
    "        continue\n",
    "    cond_probs[' '.join(gram)] = {\"cond_prob\": d[\"positive\"]/total_count, \"total_count\": total_count}\n",
    "    \n",
    "cond_probs "
   ]
  },
  {
   "cell_type": "code",
   "execution_count": null,
   "metadata": {
    "collapsed": true
   },
   "outputs": [],
   "source": [
    "# What are the most salient terms?\n",
    "list(sorted(cond_probs.items(), key=lambda x:x[1][\"cond_prob\"], reverse=True))[:10]"
   ]
  },
  {
   "cell_type": "code",
   "execution_count": null,
   "metadata": {
    "collapsed": true
   },
   "outputs": [],
   "source": [
    "# Some of these have low counts, which means that they probably just occurred in a small number of reports\n",
    "# that happened to be positive. We'll set a threshold for probablity, take the n most frequent,\n",
    "# and then sort by conditional probablity\n",
    "n = 10\n",
    "thresh = 0.9\n",
    "cond_probs_to_plot = [(gram, d) for (gram, d) in cond_probs.items() if d[\"cond_prob\"] >= thresh]\n",
    "cond_probs_to_plot = list(sorted(cond_probs_to_plot, key=lambda x: x[1][\"total_count\"], reverse=True))[:n]\n",
    "cond_probs_to_plot = sorted(cond_probs_to_plot, key=lambda x:x[1][\"cond_prob\"], reverse=True)\n",
    "cond_probs_to_plot"
   ]
  },
  {
   "cell_type": "code",
   "execution_count": 291,
   "metadata": {},
   "outputs": [
    {
     "data": {
      "image/png": "[encoded data removed]",
      "text/plain": [
       "<matplotlib.figure.Figure at 0x1238462b0>"
      ]
     },
     "metadata": {},
     "output_type": "display_data"
    }
   ],
   "source": [
    "# Now plot this\n",
    "n = 10\n",
    "x = range(n)\n",
    "words = [tup[0] for tup in cond_probs_to_plot[:n]]\n",
    "# Plot the probablities\n",
    "y = [tup[1][\"cond_prob\"] for tup in cond_probs_to_plot[:n]]\n",
    "plt.plot(x, y, marker='.')\n",
    "# Now add the text labels\n",
    "# for i, (word, (prob, _)) in enumerate(cond_probs_to_plot[:n]):\n",
    "#     plt.text(i, prob, word, rotation=-45)\n",
    "plt.xticks(x, words, rotation=90)\n",
    "_ = plt.title(\"Probablity of Fluid Collection given an ngram\")"
   ]
  },
  {
   "cell_type": "code",
   "execution_count": 336,
   "metadata": {},
   "outputs": [
    {
     "data": {
      "image/png": "[encoded data removed]",
      "text/plain": [
       "<matplotlib.figure.Figure at 0x1224b5c50>"
      ]
     },
     "metadata": {},
     "output_type": "display_data"
    }
   ],
   "source": [
    "# Just for fun, let's plot a histogram of the conditional probs\n",
    "probs = [d['cond_prob'] for (word, d) in cond_probs.items()]\n",
    "fig, ax = plot_hist(probs, \"Conditional Probability of Vocabulary Ngrams\")\n",
    "ax.set_xlabel(\"P(positive | ngram)\")\n",
    "_ = ax.set_yticks([])"
   ]
  },
  {
   "cell_type": "markdown",
   "metadata": {},
   "source": [
    " ### 2b. Chi-Squared\n",
    " \n",
    " - Now do the same thing using a Chi-Squared Test with sklearn. I preprocessed the data and transformed it into matrices. See `Report Classification.ipynb` to see the data transformation process."
   ]
  },
  {
   "cell_type": "code",
   "execution_count": 292,
   "metadata": {
    "collapsed": true
   },
   "outputs": [],
   "source": [
    "DATADIR = '../stats_data'\n",
    "INPATH = os.path.join(DATADIR, 'train_data.pkl')\n",
    "VECTORIZER = os.path.join(DATADIR, 'vectorizer.pkl')"
   ]
  },
  {
   "cell_type": "code",
   "execution_count": 293,
   "metadata": {
    "collapsed": true
   },
   "outputs": [],
   "source": [
    "def load_data():\n",
    "    with open(INPATH, 'rb') as f:\n",
    "        X, y = pickle.load(f)\n",
    "    with open(VECTORIZER, 'rb') as f:\n",
    "        vectorizer = pickle.load(f)\n",
    "    return X, y, vectorizer\n",
    "X, y, vectorizer = load_data()"
   ]
  },
  {
   "cell_type": "code",
   "execution_count": 294,
   "metadata": {},
   "outputs": [
    {
     "data": {
      "text/plain": [
       "SelectKBest(k=100, score_func=<function chi2 at 0x109b4b048>)"
      ]
     },
     "execution_count": 294,
     "metadata": {},
     "output_type": "execute_result"
    }
   ],
   "source": [
    "ch2 = SelectKBest(chi2, 100)\n",
    "ch2.fit(X, y)"
   ]
  },
  {
   "cell_type": "code",
   "execution_count": 295,
   "metadata": {},
   "outputs": [
    {
     "data": {
      "text/html": [
       "<div>\n",
       "<style scoped>\n",
       "    .dataframe tbody tr th:only-of-type {\n",
       "        vertical-align: middle;\n",
       "    }\n",
       "\n",
       "    .dataframe tbody tr th {\n",
       "        vertical-align: top;\n",
       "    }\n",
       "\n",
       "    .dataframe thead th {\n",
       "        text-align: right;\n",
       "    }\n",
       "</style>\n",
       "<table border=\"1\" class=\"dataframe\">\n",
       "  <thead>\n",
       "    <tr style=\"text-align: right;\">\n",
       "      <th></th>\n",
       "      <th>term</th>\n",
       "      <th>score</th>\n",
       "    </tr>\n",
       "  </thead>\n",
       "  <tbody>\n",
       "    <tr>\n",
       "      <th>117</th>\n",
       "      <td>collection</td>\n",
       "      <td>577.842366</td>\n",
       "    </tr>\n",
       "    <tr>\n",
       "      <th>259</th>\n",
       "      <td>fluid</td>\n",
       "      <td>284.480468</td>\n",
       "    </tr>\n",
       "    <tr>\n",
       "      <th>260</th>\n",
       "      <td>fluid collection</td>\n",
       "      <td>262.714097</td>\n",
       "    </tr>\n",
       "    <tr>\n",
       "      <th>288</th>\n",
       "      <td>hematoma</td>\n",
       "      <td>210.474145</td>\n",
       "    </tr>\n",
       "    <tr>\n",
       "      <th>115</th>\n",
       "      <td>cm</td>\n",
       "      <td>194.536101</td>\n",
       "    </tr>\n",
       "    <tr>\n",
       "      <th>213</th>\n",
       "      <td>drain</td>\n",
       "      <td>133.412460</td>\n",
       "    </tr>\n",
       "    <tr>\n",
       "      <th>214</th>\n",
       "      <td>drainage</td>\n",
       "      <td>106.216275</td>\n",
       "    </tr>\n",
       "    <tr>\n",
       "      <th>118</th>\n",
       "      <td>collections</td>\n",
       "      <td>101.425366</td>\n",
       "    </tr>\n",
       "    <tr>\n",
       "      <th>261</th>\n",
       "      <td>fluid collections</td>\n",
       "      <td>72.274042</td>\n",
       "    </tr>\n",
       "    <tr>\n",
       "      <th>99</th>\n",
       "      <td>catheter</td>\n",
       "      <td>67.579676</td>\n",
       "    </tr>\n",
       "  </tbody>\n",
       "</table>\n",
       "</div>"
      ],
      "text/plain": [
       "                  term       score\n",
       "117         collection  577.842366\n",
       "259              fluid  284.480468\n",
       "260   fluid collection  262.714097\n",
       "288           hematoma  210.474145\n",
       "115                 cm  194.536101\n",
       "213              drain  133.412460\n",
       "214           drainage  106.216275\n",
       "118        collections  101.425366\n",
       "261  fluid collections   72.274042\n",
       "99            catheter   67.579676"
      ]
     },
     "execution_count": 295,
     "metadata": {},
     "output_type": "execute_result"
    }
   ],
   "source": [
    "def get_feature_scores(vectorizer, ch2):\n",
    "    feature_names = vectorizer.get_feature_names()\n",
    "    \n",
    "    # (index, score)\n",
    "    top_ranked = [(index, score) for (index, score)\n",
    "                    in enumerate(ch2.scores_)]\n",
    "\n",
    "    # Sort by score\n",
    "    term_scores = [{'term': feature_names[idx], 'score': score} for (idx, score) in top_ranked]\n",
    "    df = pd.DataFrame.from_dict(term_scores)\n",
    "    df = df[['term', 'score']]\n",
    "    return df\n",
    "term_scores = get_feature_scores(vectorizer, ch2)\n",
    "term_scores = term_scores.sort_values(by='score', ascending=False)\n",
    "term_scores.head(n=10)"
   ]
  },
  {
   "cell_type": "code",
   "execution_count": 337,
   "metadata": {},
   "outputs": [
    {
     "data": {
      "image/png": "[encoded data removed]",
      "text/plain": [
       "<matplotlib.figure.Figure at 0x124174eb8>"
      ]
     },
     "metadata": {},
     "output_type": "display_data"
    }
   ],
   "source": [
    "# Now plot the top 10 terms against their Chi2 scores\n",
    "x = range(10)\n",
    "terms = term_scores[\"term\"].iloc[:10]\n",
    "y = term_scores[\"score\"].iloc[:10]\n",
    "\n",
    "plt.plot(x, y, marker='.')\n",
    "plt.ylabel(\"Chi2 Score\")\n",
    "plt.title(\"Chi2 Scores of Ngrams Indicating Fluid Collection\")\n",
    "_ = plt.xticks(x, terms,rotation=90)"
   ]
  },
  {
   "cell_type": "code",
   "execution_count": 335,
   "metadata": {},
   "outputs": [
    {
     "data": {
      "text/plain": [
       "Text(0,0.5,'Chi2 Score')"
      ]
     },
     "execution_count": 335,
     "metadata": {},
     "output_type": "execute_result"
    },
    {
     "data": {
      "image/png": "[encoded data removed]",
      "text/plain": [
       "<matplotlib.figure.Figure at 0x1224c7518>"
      ]
     },
     "metadata": {},
     "output_type": "display_data"
    }
   ],
   "source": [
    "# Let's also plot the entire distribution\n",
    "x = range(len(term_scores))\n",
    "y = term_scores.score\n",
    "plt.plot(x, y)\n",
    "plt.ylabel(\"Chi2 Score\")\n",
    "\n",
    "# plt.set_yticks()"
   ]
  },
  {
   "cell_type": "markdown",
   "metadata": {},
   "source": [
    "# Conclusion\n",
    "\n",
    "Using both methods of salience ranking, we can see that we can find terms that are reasonably associated with fluid collections. These terms include:\n",
    "\n",
    "- subcapsular\n",
    "- collection\n",
    "- fluid collection\n",
    "- drain/drainage/drained\n",
    "- pigtail catheter\n",
    "- abdominal fluid\n",
    "- cm\n",
    "\n",
    "Some of these existed in the hand-crafted lexicons, while others did not but still appear to be useful terms. This indicates that probabilistic/statistical methods using text data may be effective for detecting fluid collections. Next, we'll train a number of ML classifiers to try and find the highest-performing algorithm."
   ]
  },
  {
   "cell_type": "markdown",
   "metadata": {},
   "source": [
    "# Up Next\n",
    "[Report Classification](./3 - Report Classification.html)"
   ]
  },
  {
   "cell_type": "code",
   "execution_count": null,
   "metadata": {
    "collapsed": true
   },
   "outputs": [],
   "source": []
  }
 ],
 "metadata": {
  "kernelspec": {
   "display_name": "Python 3",
   "language": "python",
   "name": "python3"
  },
  "language_info": {
   "codemirror_mode": {
    "name": "ipython",
    "version": 3
   },
   "file_extension": ".py",
   "mimetype": "text/x-python",
   "name": "python",
   "nbconvert_exporter": "python",
   "pygments_lexer": "ipython3",
   "version": "3.6.4"
  }
 },
 "nbformat": 4,
 "nbformat_minor": 2
}
